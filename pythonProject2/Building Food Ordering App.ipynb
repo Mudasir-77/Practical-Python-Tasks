{
 "cells": [
  {
   "cell_type": "markdown",
   "source": [
    "#Food Ordering App"
   ],
   "metadata": {
    "collapsed": false
   }
  },
  {
   "cell_type": "code",
   "execution_count": 16,
   "outputs": [],
   "source": [
    "rest_name=\"Bite & Dine\""
   ],
   "metadata": {
    "collapsed": false,
    "ExecuteTime": {
     "end_time": "2024-09-05T11:00:34.557851200Z",
     "start_time": "2024-09-05T11:00:34.517904800Z"
    }
   }
  },
  {
   "cell_type": "code",
   "execution_count": 17,
   "outputs": [],
   "source": [
    "menu = {\n",
    "    \"SKU1\": {\"name\": \"Margherita Pizza\", \"price\": 8.99},\n",
    "    \"SKU2\": {\"name\": \"Spaghetti Carbonara\", \"price\": 12.49},\n",
    "    \"SKU3\": {\"name\": \"Caesar Salad\", \"price\": 6.99},\n",
    "    \"SKU4\": {\"name\": \"Grilled Chicken Sandwich\", \"price\": 9.99},\n",
    "    \"SKU5\": {\"name\": \"Veggie Burger\", \"price\": 8.49},\n",
    "    \"SKU6\": {\"name\": \"Chicken Wings\", \"price\": 7.99},\n",
    "    \"SKU7\": {\"name\": \"French Fries\", \"price\": 3.49},\n",
    "    \"SKU8\": {\"name\": \"Cheeseburger\", \"price\": 10.99},\n",
    "    \"SKU9\": {\"name\": \"Mushroom Risotto\", \"price\": 11.99},\n",
    "    \"SKU10\": {\"name\": \"Chocolate Brownie\", \"price\": 5.49}\n",
    "}\n"
   ],
   "metadata": {
    "collapsed": false,
    "ExecuteTime": {
     "end_time": "2024-09-05T11:00:35.232459200Z",
     "start_time": "2024-09-05T11:00:35.197742700Z"
    }
   }
  },
  {
   "cell_type": "code",
   "execution_count": 18,
   "outputs": [],
   "source": [
    "cart={}\n",
    "\n",
    "actions={\n",
    "    '1':'Add item to the cart',\n",
    "    '2':'Remove item form the cart',\n",
    "    '3':\"Modify item's quantity in the cart\",\n",
    "    '4':'View items in the cart',\n",
    "    '5':'Checkout',\n",
    "    '6':'Exit'\n",
    "}"
   ],
   "metadata": {
    "collapsed": false,
    "ExecuteTime": {
     "end_time": "2024-09-05T11:00:35.918484500Z",
     "start_time": "2024-09-05T11:00:35.877673800Z"
    }
   }
  },
  {
   "cell_type": "code",
   "execution_count": 20,
   "outputs": [
    {
     "name": "stdout",
     "output_type": "stream",
     "text": [
      "\n",
      " *** Buddies Inn's Menu ***\n",
      "\n",
      "(1) Margherita Pizza $8.99\n",
      "(2) Spaghetti Carbonara $12.49\n",
      "(3) Caesar Salad $6.99\n",
      "(4) Grilled Chicken Sandwich $9.99\n",
      "(5) Veggie Burger $8.49\n",
      "(6) Chicken Wings $7.99\n",
      "(7) French Fries $3.49\n",
      "(8) Cheeseburger $10.99\n",
      "(9) Mushroom Risotto $11.99\n",
      "(10) Chocolate Brownie $5.49\n",
      "\n",
      "\n"
     ]
    }
   ],
   "source": [
    "gst=0.07 # General sales tax\n",
    "\n",
    "def display_menu():\n",
    "        \"\"\"Displays All menu items,SKU's Names and Prices\"\"\"\n",
    "        print(\"\\n *** Buddies Inn's Menu ***\\n\")\n",
    "        for sku in menu:\n",
    "            stock=sku[3:]\n",
    "            name=menu[sku]['name']\n",
    "            price=menu[sku]['price']\n",
    "            print(f\"({stock}) {name} ${price}\")\n",
    "        print('\\n')\n",
    "display_menu()"
   ],
   "metadata": {
    "collapsed": false,
    "ExecuteTime": {
     "end_time": "2024-09-05T11:00:51.217883800Z",
     "start_time": "2024-09-05T11:00:51.157763500Z"
    }
   }
  },
  {
   "cell_type": "code",
   "execution_count": 21,
   "outputs": [
    {
     "data": {
      "text/plain": "{}"
     },
     "execution_count": 21,
     "metadata": {},
     "output_type": "execute_result"
    }
   ],
   "source": [
    "cart"
   ],
   "metadata": {
    "collapsed": false,
    "ExecuteTime": {
     "end_time": "2024-09-05T11:00:52.977988100Z",
     "start_time": "2024-09-05T11:00:52.908160600Z"
    }
   }
  },
  {
   "cell_type": "markdown",
   "source": [
    "#Add Item to the cart"
   ],
   "metadata": {
    "collapsed": false
   }
  },
  {
   "cell_type": "code",
   "execution_count": 22,
   "outputs": [],
   "source": [
    "def add_to_cart(sku,quantity=1):\n",
    "    \"\"\"Add an item and it's quantity to the cart\"\"\"\n",
    "    if sku in menu:\n",
    "        if sku not in cart:\n",
    "            cart[sku]=quantity\n",
    "        else:\n",
    "            cart[sku] += quantity\n",
    "        print(f\"Added {quantity}{menu[sku]['name']} in your cart\")\n",
    "    else:\n",
    "        print(\"Sorry! Ordered item is not availabe in your cart in the menu. \")"
   ],
   "metadata": {
    "collapsed": false,
    "ExecuteTime": {
     "end_time": "2024-09-05T11:00:56.387915900Z",
     "start_time": "2024-09-05T11:00:56.348701300Z"
    }
   }
  },
  {
   "cell_type": "markdown",
   "source": [
    "#Removing Items from the cart"
   ],
   "metadata": {
    "collapsed": false
   }
  },
  {
   "cell_type": "code",
   "execution_count": 23,
   "outputs": [],
   "source": [
    "def remove_form_cart(sku):\n",
    "    \"\"\"Removing an items from the cart\"\"\"\n",
    "    if sku in cart:\n",
    "        removed_val=cart.pop(sku)\n",
    "        print(f\"Removed{menu[sku]['name']} from the cart\")\n",
    "    else:\n",
    "        print(f\"Sorry! this item is not available in the cart\")"
   ],
   "metadata": {
    "collapsed": false,
    "ExecuteTime": {
     "end_time": "2024-09-05T11:00:58.447948800Z",
     "start_time": "2024-09-05T11:00:58.398071800Z"
    }
   }
  },
  {
   "cell_type": "markdown",
   "source": [
    "#Modifying item to the cart"
   ],
   "metadata": {
    "collapsed": false
   }
  },
  {
   "cell_type": "code",
   "execution_count": 24,
   "outputs": [],
   "source": [
    "def modify_cart(sku,quantity):\n",
    "    \"\"\"Modify an item's quantity in the cart\"\"\"\n",
    "    if sku in cart:\n",
    "        if quantity>0:\n",
    "            cart[sku]=quantity\n",
    "            print(f\"Modified {menu[sku]['name']}\\'s quantity to {quantity}\")\n",
    "        else:\n",
    "            remove_form_cart(sku)\n",
    "    else:\n",
    "        print(f\"Sorry! this item is not available in the cart\")"
   ],
   "metadata": {
    "collapsed": false,
    "ExecuteTime": {
     "end_time": "2024-09-05T11:00:59.857995100Z",
     "start_time": "2024-09-05T11:00:59.807762300Z"
    }
   }
  },
  {
   "cell_type": "markdown",
   "source": [
    "#Viewing cart of a menu"
   ],
   "metadata": {
    "collapsed": false
   }
  },
  {
   "cell_type": "code",
   "execution_count": 25,
   "outputs": [],
   "source": [
    "def view_cart():\n",
    "    \"\"\"Displays Menu's name,quantity, and total_amount\"\"\"\n",
    "    print(\"\\n ***Your Cart***\\n\")\n",
    "    subtotal=0\n",
    "    for sku in cart:\n",
    "        quantity=cart[sku]\n",
    "        price=menu[sku]['price']\n",
    "        subtotal += quantity*price\n",
    "        print(f\"{quantity}*{menu[sku]['name']}\")\n",
    "    tax=subtotal*gst\n",
    "    total=subtotal+tax\n",
    "    print('\\n')\n",
    "    print(f'Total : ${total : .2f}')\n",
    "    print('\\n')"
   ],
   "metadata": {
    "collapsed": false,
    "ExecuteTime": {
     "end_time": "2024-09-05T11:01:00.963610Z",
     "start_time": "2024-09-05T11:01:00.947952500Z"
    }
   }
  },
  {
   "cell_type": "code",
   "execution_count": 26,
   "outputs": [],
   "source": [
    "def checkout():\n",
    "    \"\"\"Display the subtotal info for the users to checkout\"\"\"\n",
    "    print('\\n***Checkout***\\n')\n",
    "    view_cart()\n",
    "    print(\"Thanks for your order! Good Bye!\")\n",
    "    print('\\n')"
   ],
   "metadata": {
    "collapsed": false,
    "ExecuteTime": {
     "end_time": "2024-09-05T11:01:01.657722600Z",
     "start_time": "2024-09-05T11:01:01.607808500Z"
    }
   }
  },
  {
   "cell_type": "code",
   "execution_count": 27,
   "outputs": [],
   "source": [
    "def cust_actions():\n",
    "    print(\"\\n***Please Choose your option\")\n",
    "    for action in actions:\n",
    "        details=actions[action]\n",
    "        print(f\"({action}){details}\")"
   ],
   "metadata": {
    "collapsed": false,
    "ExecuteTime": {
     "end_time": "2024-09-05T11:01:02.167578600Z",
     "start_time": "2024-09-05T11:01:02.142689600Z"
    }
   }
  },
  {
   "cell_type": "code",
   "execution_count": 28,
   "outputs": [],
   "source": [
    "def get_sku_quantity(sku_prompt,quantity_prompt=None):\n",
    "    sku_num=input(sku_prompt)\n",
    "    sku=\"sku\"+ sku_num\n",
    "    qty=input(quantity_prompt)\n",
    "    if quantity_prompt:\n",
    "        if not qty.isdigit():\n",
    "            qty=1\n",
    "        else:\n",
    "            qty=int(qty)\n",
    "        return qty\n",
    "    else:\n",
    "        return sku"
   ],
   "metadata": {
    "collapsed": false,
    "ExecuteTime": {
     "end_time": "2024-09-05T11:01:02.978006900Z",
     "start_time": "2024-09-05T11:01:02.948096600Z"
    }
   }
  },
  {
   "cell_type": "code",
   "execution_count": 29,
   "outputs": [
    {
     "data": {
      "text/plain": "{}"
     },
     "execution_count": 29,
     "metadata": {},
     "output_type": "execute_result"
    }
   ],
   "source": [
    "def order():\n",
    "    \"\"\"it will take order from customer\"\"\"\n",
    "    print(f\"welcome to the {rest_name}!\")\n",
    "    ordering = True\n",
    "    while ordering:\n",
    "        cust_actions()\n",
    "        response=input(\"Please enter desired option\")\n",
    "        if response==\"1\":\n",
    "            display_menu()\n",
    "            sku_prompt=\"Please enter the meal number from thr menu you want to order:\"\n",
    "            quantity_prompt=\"Please enter the quantity from the menu you want to order[Default=1]:\"\n",
    "            sku,quantity=get_sku_quantity(sku_prompt,quantity_prompt)\n",
    "            print('\\n')\n",
    "            add_to_cart(sku,quantity)\n",
    "        #remove from cart\n",
    "        elif response==2:\n",
    "            display_menu()\n",
    "            sku_prompt=\"Please enter the meal number from thr menu you want to order:\"\n",
    "            sku=get_sku_quantity(sku_prompt)\n",
    "            remove_form_cart(sku)\n",
    "        # Modify cart\n",
    "        elif response==3:\n",
    "            display_menu()\n",
    "            sku_prompt=\"Please enter the meal number from thr menu you want to order:\"\n",
    "            quantity_prompt=\"Please enter the quantity from the menu you want to order[Default=1]:\"\n",
    "            sku,quantity=get_sku_quantity(sku_prompt,quantity_prompt)\n",
    "            modify_cart(sku,quantity)\n",
    "        #view cart\n",
    "        elif response==4:\n",
    "            view_cart()\n",
    "        #Checkout\n",
    "        elif response==5:\n",
    "            checkout()\n",
    "            ordering=False\n",
    "        #Exit\n",
    "        elif response==6:\n",
    "            print('Thanks for coming!')\n",
    "            ordering=False\n",
    "        else:\n",
    "            print(\"Sorry You have entered invalid option.Please try again!\")\n",
    "cart.clear()\n",
    "cart\n",
    "\n"
   ],
   "metadata": {
    "collapsed": false,
    "ExecuteTime": {
     "end_time": "2024-09-05T11:01:03.887887500Z",
     "start_time": "2024-09-05T11:01:03.807944200Z"
    }
   }
  },
  {
   "cell_type": "code",
   "execution_count": 30,
   "outputs": [
    {
     "data": {
      "text/plain": "<function __main__.order()>"
     },
     "execution_count": 30,
     "metadata": {},
     "output_type": "execute_result"
    }
   ],
   "source": [
    "order()"
   ],
   "metadata": {
    "collapsed": false,
    "ExecuteTime": {
     "end_time": "2024-09-05T11:01:19.887935900Z",
     "start_time": "2024-09-05T11:01:19.798074600Z"
    }
   }
  },
  {
   "cell_type": "code",
   "execution_count": null,
   "outputs": [],
   "source": [],
   "metadata": {
    "collapsed": false
   }
  }
 ],
 "metadata": {
  "kernelspec": {
   "display_name": "Python 3",
   "language": "python",
   "name": "python3"
  },
  "language_info": {
   "codemirror_mode": {
    "name": "ipython",
    "version": 2
   },
   "file_extension": ".py",
   "mimetype": "text/x-python",
   "name": "python",
   "nbconvert_exporter": "python",
   "pygments_lexer": "ipython2",
   "version": "2.7.6"
  }
 },
 "nbformat": 4,
 "nbformat_minor": 0
}
